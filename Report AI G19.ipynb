{
 "cells": [
  {
   "attachments": {},
   "cell_type": "markdown",
   "id": "10007441",
   "metadata": {},
   "source": [
    "<br><br><center><img src=\"./figure/UTHM logo.png\" width=60% height=40%></center>"
   ]
  },
  {
   "attachments": {},
   "cell_type": "markdown",
   "id": "a95e52bb",
   "metadata": {},
   "source": [
    "<center><h1 style=\"font-size:3rem; font-family: 'Times New Roman', Times, serif;\">FACULTY OF COMPUTER SCIENCE AND INFORMATION TECHNOLOGY</h1><br></center>\n",
    "\n",
    "<center><h1 style=\"font-size:2.5rem; font-family: 'Times New Roman', Times, serif;\">BIT20903: ARTIFICAIL INTELLIGENCE</h1></center><br>\n",
    "<center><h1 style=\"font-size:2.5rem; font-family: 'Times New Roman', Times, serif;\">SEMESTER 2 2022/2023</h1></center><br>\n",
    "<center><h1 style=\"font-size:2.0rem; font-family: 'Times New Roman', Times, serif;\">LECTURER: DR MOHAMMED SAEED JAWAB</h1></center><br>\n",
    "<center><h1 style=\"font-size:2.2rem; font-family: 'Times New Roman', Times, serif; color:mediumslateblue;\">PROJECT TITLE: PREDICT FASHION PRODUCTS CLASSES (Using MNIST)</h1></center><br>\n",
    "\n",
    "<table>\n",
    "    <caption style=\"text-align: center; font-size:15pt; font-family: 'Times New Roman', Times, serif;\">GROUP 19</caption>\n",
    "    <tr>\n",
    "        <th style=\"text-align: center; font-size:14pt; font-family: 'Times New Roman', Times, serif;\">Name</th>\n",
    "        <th style=\"text-align: center; font-size:14pt; font-family: 'Times New Roman', Times, serif;\">Matric Number</th>\n",
    "    </tr>\n",
    "    <tr>\n",
    "         <td style=\"text-align: center; font-size:14pt; font-family: 'Times New Roman', Times, serif;\">LIM KAR NEE</td>\n",
    "         <td style=\"text-align: center; font-size:14pt; font-family: 'Times New Roman', Times, serif;\">AI210375</td>\n",
    "    </tr>\n",
    "    <tr>\n",
    "         <td style=\"text-align: center; font-size:14pt; font-family: 'Times New Roman', Times, serif;\">LUI YI WEN</td>\n",
    "         <td style=\"text-align: center; font-size:14pt; font-family: 'Times New Roman', Times, serif;\">AI210412</td>\n",
    "    </tr>\n",
    "    <tr>\n",
    "         <td style=\"text-align: center; font-size:14pt; font-family: 'Times New Roman', Times, serif;\">LUU WEI CHEK</td>\n",
    "         <td style=\"text-align: center; font-size:14pt; font-family: 'Times New Roman', Times, serif;\">AI210350</td>\n",
    "    </tr>\n",
    "    <tr>\n",
    "         <td style=\"text-align: center; font-size:14pt; font-family: 'Times New Roman', Times, serif;\">KOR WEI YAN</td>\n",
    "         <td style=\"text-align: center; font-size:14pt; font-family: 'Times New Roman', Times, serif;\">AI210411</td>\n",
    "    </tr>\n",
    "    <tr>\n",
    "         <td style=\"text-align: center; font-size:14pt; font-family: 'Times New Roman', Times, serif;\">NG WAI KIT</td>\n",
    "         <td style=\"text-align: center; font-size:14pt; font-family: 'Times New Roman', Times, serif;\">AI210417</td>\n",
    "    </tr>\n",
    "    <tr>\n",
    "         <td style=\"text-align: center; font-size:14pt; font-family: 'Times New Roman', Times, serif;\">YAU JIA YIN</td>\n",
    "         <td style=\"text-align: center; font-size:14pt; font-family: 'Times New Roman', Times, serif;\">AI210303</td>\n",
    "    </tr>\n",
    "</table>"
   ]
  },
  {
   "attachments": {},
   "cell_type": "markdown",
   "id": "61e76c20",
   "metadata": {},
   "source": [
    "<center><h1 style=\"font-size:4rem; font-family: 'Times New Roman', Times, serif; color:orange;\">CHAPTER 1</h1></center><br>\n",
    "<center><h1 style=\"font-size:3rem; font-family: 'Times New Roman', Times, serif; color:orange;\">DATA DESCRIPTION UNDER ANALYSIS</h1></center><br>\n",
    "<p style=\"text-align:justify; font-size: 12pt; font-family: 'Times New Roman', Times, serif;\">&emsp;In this project, our chosen problem is to predict fashion product classes using the MNIST Data Set. The MNIST dataset is a benchmark dataset that is widely used in computer vision and machine learning fields and has been adapted for multiple classification tasks. In this scenario, we are specifically focusing on the Fashion-MNIST dataset, which serves as an alternative to the original MNIST dataset. The main difference between them is that the Fashion MNIST data set contains grayscale images of fashion products, while the MNIST data set contains grayscale images of handwritten digits. However, both of the datasets have the same size of image and the structure of training and testing splits.</p>"
   ]
  },
  {
   "attachments": {},
   "cell_type": "markdown",
   "id": "3798a552",
   "metadata": {},
   "source": [
    "<p style=\"font-size: 12pt; font-family: 'Times New Roman', Times, serif;\">&emsp; The Fashion - MNIST dataset consists of grayscale images with a size of 28x28 pixels, which represent different types of fashion products such as clothes, shoes, accessories, etc. It contains a total of 70,000 images, this will divide into 60,000 training examples and 10,000 testing examples. Then, each image is connected with a label that indicates the fashion product class. There are 10 different classes of fashion products including t-shirts/tops, coats, trousers, dresses, pullovers, sandals, shirts, sneakers, bags and ankle boots. </p>"
   ]
  },
  {
   "attachments": {},
   "cell_type": "markdown",
   "id": "5e713a6e",
   "metadata": {},
   "source": [
    "<p style=\"font-size: 12pt; font-family: 'Times New Roman', Times, serif;\">&emsp; Our project goal is to develop a machine learning model that can classify the fashion products accurately based on their images. The process includes training the model by using the training set that provided and then evaluating its performance on the testing set. By implementing the patterns and features show in the images, we aim to achieve high accuracy in the performance of classifying the fashion products.  </p>"
   ]
  },
  {
   "attachments": {},
   "cell_type": "markdown",
   "id": "6f2fb42a",
   "metadata": {},
   "source": [
    "<p style=\"font-size: 12pt; font-family: 'Times New Roman', Times, serif;\">Figure 1.1 below shows the example of the fashion-MNIST data set. </p>"
   ]
  },
  {
   "attachments": {},
   "cell_type": "markdown",
   "id": "7e4c2d6c",
   "metadata": {},
   "source": [
    "<img src=\"./figure/Figure 1.1.png\" width=50% height=60%>\n",
    "<p style=\"font-size: 12pt; font-family:'Times New Roman', Times, serif; text-align: center;\"><i>Figure 1.1 Example of Fashion MNIST Data Set</i></p>"
   ]
  },
  {
   "attachments": {},
   "cell_type": "markdown",
   "id": "188ad078",
   "metadata": {},
   "source": [
    "<center><h1 style=\"font-size:4rem; font-family: 'Times New Roman', Times, serif; color:orange;\">CHAPTER 2</h1></center><br>\n",
    "<center><h1 style=\"font-size:3rem; font-family: 'Times New Roman', Times, serif; color:orange;\">DEVELOPMENT ENVIRONMENT</h1></center><br>\n",
    "<p style=\"text-align:justify; font-size: 12pt; font-family: 'Times New Roman', Times, serif;\">&emsp;Developers utilise a development environment, commonly referred to as a software development environment or an IDE (Integrated Development Environment), to design, test, and debug software applications. The entire software development process is supported by the integrated and optimised environment it offers.</p>"
   ]
  },
  {
   "attachments": {},
   "cell_type": "markdown",
   "id": "cf288630",
   "metadata": {},
   "source": [
    "<p style=\"text-align:justify; font-size: 12pt; font-family: 'Times New Roman', Times, serif;\">&emsp; Tensorflow, Keras, Jupyter Notebook, Numpy, and Matplotlib are all used in this project. Below are the steps to setting up a development environment:  </p>"
   ]
  },
  {
   "attachments": {},
   "cell_type": "markdown",
   "id": "94628c9d",
   "metadata": {},
   "source": [
    "<p style=\"text-align:justify; font-size: 12pt; font-family: 'Times New Roman', Times, serif;\"><b>Step 1: Install Python</b><br>You need to dowload the latest version of Python from the official Python website (https://www.python.org/).</p>"
   ]
  },
  {
   "attachments": {},
   "cell_type": "markdown",
   "id": "5efdb4a3",
   "metadata": {},
   "source": [
    "<p style=\"text-align:justify; font-size: 12pt; font-family: 'Times New Roman', Times, serif;\"><b>Step 2: Install Packages</b><br>In your Web browser, enter the installing packages or click this link (https://packaging.python.org/en/latest/tutorials/installing-packages/) to download the file name as get-pip.py. </p>"
   ]
  },
  {
   "attachments": {},
   "cell_type": "markdown",
   "id": "d45d0dd6",
   "metadata": {},
   "source": [
    "<img src=\"./figure/Figure 2.1.jpg\" width=50% height=60%>\n",
    "<p style=\"font-size: 12pt; font-family:'Times New Roman', Times, serif; text-align: center;\"><i>Figure 2.1: Download get-pip.py</i></p>\n",
    "<p style=\"text-align:justify; font-size: 12pt; font-family: 'Times New Roman', Times, serif;\">After then, go to create a new document folder name as \"Python\" and save the get-pip.py into the folder. </p>"
   ]
  },
  {
   "attachments": {},
   "cell_type": "markdown",
   "id": "cc198f7d",
   "metadata": {},
   "source": [
    "<p style=\"text-align:justify; font-size: 12pt; font-family: 'Times New Roman', Times, serif;\"><b>Step 3: Starting the installation</b><br>Open your command prompt or terminal and execute the follwing command:</p>\n",
    "</br>\n",
    "python get-pip.py\n",
    "<p style=\"text-align:justify; font-size: 12pt; font-family: 'Times New Roman', Times, serif;\">This will install or upgrade pip. Additionally, it will instal setuptools and wheel if they're not installed already.</p>\n",
    "</br>\n",
    "pip install tensorflow keras\n",
    "pip install jupyter notebook\n",
    "pip install numpy\n",
    "pip install matplotlib\n",
    "<p style=\"text-align:justify; font-size: 12pt; font-family: 'Times New Roman', Times, serif;\">The above command will help you to install Tensorflow, Keras, Jupyter NoteBook, Numpy and Matplotlib.</p>\n",
    "\n",
    "</br>\n",
    "jupyter notebook\n",
    "<p style=\"text-align:justify; font-size: 12pt; font-family: 'Times New Roman', Times, serif;\">The above command will help you run Jupyter notebook"
   ]
  },
  {
   "attachments": {},
   "cell_type": "markdown",
   "id": "adc303b7",
   "metadata": {},
   "source": [
    "<img src=\"./figure/Figure 2.2.gif\" width=80% height=80%>\n",
    "<p style=\"font-size: 12pt; font-family:'Times New Roman', Times, serif; text-align: center;\"><i>Figure 2.2: Open Jupyter Notebook</i></p>\n"
   ]
  },
  {
   "attachments": {},
   "cell_type": "markdown",
   "id": "9a127397",
   "metadata": {},
   "source": [
    "<p style=\"text-align:justify; font-size: 12pt; font-family: 'Times New Roman', Times, serif;\">&emsp; These steps should help you set up a development environment for TensorFlow, Keras, Jupyter Notebook, NumPy and Matplotlib.<p>"
   ]
  },
  {
   "attachments": {},
   "cell_type": "markdown",
   "id": "0626d8ae",
   "metadata": {},
   "source": [
    "<center><h1 style=\"font-size:4rem; font-family: 'Times New Roman', Times, serif; color:orange;\">CHAPTER 3</h1></center><br>\n",
    "<center><h1 style=\"font-size:3rem; font-family: 'Times New Roman', Times, serif; color:orange;\">CODING EXPLANATION</h1></center><br>\n",
    "<p style=\"text-align:justify; font-size: 12pt; font-family: 'Times New Roman', Times, serif;\">&emsp; The code below is Python script that uses the Keras library from tensorflow to build, train and evaluate a Convolutional Neural Network(CNN) model for predicting images of fashion products classes using MNIST Dataset in Python. MNIST is short for Modified National Institute of Standards and Technology database and it contains a collection of 60,000 handwritten digits for training a machine learning model and 10,000 handwritten digits for testing the model and 28 x 28 pixels images of handwritten digits from 0 to 9.</p>"
   ]
  },
  {
   "attachments": {},
   "cell_type": "markdown",
   "id": "ffe7edd5",
   "metadata": {},
   "source": [
    "<p style=\"text-align:justify; font-size: 12pt; font-family: 'Times New Roman', Times, serif;\">&emsp; Let’s briefly talk about what is Convolutional Neural Network(CNN) model. CNN model is frequently used in image and video processing objects. The building blocks of CNNs are filters a.k.a. kernels. Kernels are used to extract the relevant features from the input using the convolution operation. CNN learns the filters automatically without mentioning it explicitly. These filters help in extracting the right and relevant features from the input data. CNN captures the spatial features from an image. Spatial features refer to the arrangement of pixels and the relationship between them in an image. They help us in identifying the object accurately.<p>"
   ]
  },
  {
   "attachments": {},
   "cell_type": "markdown",
   "id": "0453c9c6",
   "metadata": {},
   "source": [
    "<img src=\"./figure/Figure 3.1.gif\" width=50% height=60%>\n",
    "<p style=\"font-size: 12pt; font-family: 'Times New Roman', Times, serif; text-align: center;\"><i>Figure 3.1: Spatial features</i></p>"
   ]
  },
  {
   "attachments": {},
   "cell_type": "markdown",
   "id": "a5a1226f",
   "metadata": {},
   "source": [
    "<p style=\"text-align:justify; font-size: 12pt; font-family: 'Times New Roman', Times, serif;\"> In the above gif, we can easily identify it is a T-shirt by looking at spatial features like the shape of its neckline and sleeves, and how it fits on the body. </p>"
   ]
  },
  {
   "cell_type": "code",
   "execution_count": 13,
   "id": "349aef1b",
   "metadata": {},
   "outputs": [],
   "source": [
    "import numpy as np"
   ]
  },
  {
   "cell_type": "code",
   "execution_count": 14,
   "id": "520dca74",
   "metadata": {},
   "outputs": [],
   "source": [
    "import matplotlib.pyplot as plt"
   ]
  },
  {
   "cell_type": "code",
   "execution_count": 15,
   "id": "4f29edb9",
   "metadata": {},
   "outputs": [],
   "source": [
    "from tensorflow import keras"
   ]
  },
  {
   "cell_type": "code",
   "execution_count": 16,
   "id": "d7c5f538",
   "metadata": {},
   "outputs": [],
   "source": [
    "from tensorflow.keras.datasets import fashion_mnist"
   ]
  },
  {
   "cell_type": "code",
   "execution_count": 17,
   "id": "b336030e",
   "metadata": {},
   "outputs": [],
   "source": [
    "from tensorflow.keras.models import Sequential"
   ]
  },
  {
   "cell_type": "code",
   "execution_count": 18,
   "id": "3efdf92a",
   "metadata": {},
   "outputs": [],
   "source": [
    "from tensorflow.keras.layers import Conv2D, MaxPooling2D, Flatten, Dense"
   ]
  },
  {
   "attachments": {},
   "cell_type": "markdown",
   "id": "dc29a7d8",
   "metadata": {},
   "source": [
    "<p style=\"text-align:justify; font-size: 12pt; font-family: 'Times New Roman', Times, serif;\"><b>Explanation:</b> Firstly, necessary libraries must be imported before building and training a CNN model, including numpy, matplotlib and several modules from the Keras library. Numpy is a library used for array calculation and is imported as np. Things need to be emphasized is that you cannot use other functions of numpy if import numpy only, it has to be import numpy as np to import all the numpy modules. Same concept goes to the other modules. matplotlib.pyplot is a module for creating visualizations, such as plots and charts and is imported as plt. keras is a high-level neural networks API that can run on top of TensorFlow. Several modules from keras are imported, including Sequential, which is a class for building sequential models and image processing while Conv2D, MaxPooling2D, Flatten, and Dense, which are all hidden layers for building CNN. fashion_mnist is a module from Keras that provides access to the Fashion MNIST dataset, which is a dataset of images of fashion products containing 70,000 images.</p>"
   ]
  },
  {
   "cell_type": "code",
   "execution_count": 19,
   "id": "e0735850",
   "metadata": {},
   "outputs": [],
   "source": [
    "# Load the Fashion MNIST dataset"
   ]
  },
  {
   "cell_type": "code",
   "execution_count": 20,
   "id": "89ed9d1a",
   "metadata": {},
   "outputs": [],
   "source": [
    "(train_images, train_labels), (test_images, test_labels) = fashion_mnist.load_data()"
   ]
  },
  {
   "attachments": {},
   "cell_type": "markdown",
   "id": "7011b18c",
   "metadata": {},
   "source": [
    "<p style=\"text-align:justify; font-size: 12pt; font-family: 'Times New Roman', Times, serif;\"><b>Explanation:</b> This line of code loads the Fashion MNIST dataset using the fashion_mnist.load_data() function from Keras. The load_data() function returns two tuples: one for the training data and one for the test data. Each tuple contains two elements: an array of images and an array of labels. Tuples are used to store multiple items in a single variable. Tuple is one of 4 built-in data types in Python used to store collections of data. Tuple items are indexed, ordered, unchangeable, and allow duplicate values. The training data consists of 60,000 images for training, while the test data consists of 10,000 images for testing. The images and labels are assigned to the variables train_images, train_labels, test_images, and test_labels, respectively. These variables can then be used to train and evaluate a machine learning model on the Fashion MNIST dataset.</p>"
   ]
  },
  {
   "cell_type": "code",
   "execution_count": 21,
   "id": "88445691",
   "metadata": {},
   "outputs": [],
   "source": [
    "# Preprocess the data"
   ]
  },
  {
   "cell_type": "code",
   "execution_count": 22,
   "id": "5df331c6",
   "metadata": {},
   "outputs": [],
   "source": [
    "train_images = train_images.reshape((60000, 28, 28, 1))"
   ]
  },
  {
   "cell_type": "code",
   "execution_count": 23,
   "id": "77943307",
   "metadata": {},
   "outputs": [],
   "source": [
    "train_images = train_images.astype('float32') / 255"
   ]
  },
  {
   "cell_type": "code",
   "execution_count": 24,
   "id": "59186082",
   "metadata": {},
   "outputs": [],
   "source": [
    "test_images = test_images.reshape((10000, 28, 28, 1))"
   ]
  },
  {
   "cell_type": "code",
   "execution_count": 25,
   "id": "cce4620a",
   "metadata": {},
   "outputs": [],
   "source": [
    "test_images = test_images.astype('float32') / 255"
   ]
  },
  {
   "attachments": {},
   "cell_type": "markdown",
   "id": "50450864",
   "metadata": {},
   "source": [
    "<p style=\"text-align:justify; font-size: 12pt; font-family: 'Times New Roman', Times, serif;\"><b>Explanation:</b> This section of the code preprocesses the training and test images from the Fashion MNIST dataset. First, preprocessing the images is to reshape them to have a fourth dimension representing the color channel. Since the images are grayscale, this dimension has a size of 1 and only has one color channel. The reshape() function is used to change the shape of the train_images and test_images into arrays range from (60000, 28, 28) and (10000, 28, 28) to (60000, 28, 28, 1) and (10000, 28, 28, 1), respectively. </p>"
   ]
  },
  {
   "attachments": {},
   "cell_type": "markdown",
   "id": "23bac873",
   "metadata": {},
   "source": [
    "<p style=\"text-align:justify; font-size: 12pt; font-family: 'Times New Roman', Times, serif;\">The first dimension of these arrays represents the number of images in the dataset. There are 60,000 training images and 10,000 test images. The second and third dimensions represent the height and width of the images in pixels. Each image is 28 pixels tall and 28 pixels wide.</p>"
   ]
  },
  {
   "attachments": {},
   "cell_type": "markdown",
   "id": "54767533",
   "metadata": {},
   "source": [
    "<p style=\"text-align:justify; font-size: 12pt; font-family: 'Times New Roman', Times, serif;\"> The next step in preprocessing the images is to scale the pixel values to be between 0 and 1. This is done by converting the data type of the arrays to float32 using the astype() function and then dividing by 255. Dividing by 255 scales the pixel values from their original range of 0 to 255 to the new range of 0 to 1. Scaling the pixel values in this way is a common preprocessing step for image data because it can help improve the performance of machine learning models. So, after reshaping, the new fourth dimension represents the color channel and this dimension has a size of 1. (60000, 28, 28, 1) and (10000, 28, 28, 1) is making sense now. </p>"
   ]
  },
  {
   "attachments": {},
   "cell_type": "markdown",
   "id": "0c3e2865",
   "metadata": {},
   "source": [
    "<p style=\"text-align:justify; font-size: 12pt; font-family: 'Times New Roman', Times, serif;\"> For your information, a color image typically has three color channels (red, green and blue). We’ll call them RGB instead. We usually code the color in this format: RGB color (0, 0, 255). However, the Fashion MNIST dataset consists of grayscale images only, which means that each pixel is represented by a single value indicating its intensity, rather than a tuple of three values representing the RGB color channels. In a grayscale image, a pixel value of 0 typically represents black, while a pixel value of 255 represents white. In the preprocessing step where the pixel values are scaled to be between 0 and 1, the original pixel values are divided by 255. This scales the pixel values from their original range of 0 to 255 to the new range of 0 to 1. After scaling, a pixel value of 0 still represents black, while a pixel value of 1 represents white. </p>"
   ]
  },
  {
   "attachments": {},
   "cell_type": "markdown",
   "id": "2a857496",
   "metadata": {},
   "source": [
    "<p style=\"text-align:justify; font-size: 12pt; font-family: 'Times New Roman', Times, serif;\"> After these preprocessing steps, the training and test images are ready to be used as input to a machine learning model. </p>"
   ]
  },
  {
   "cell_type": "code",
   "execution_count": 26,
   "id": "7fa2e816",
   "metadata": {},
   "outputs": [],
   "source": [
    "# Convert labels to categorical"
   ]
  },
  {
   "cell_type": "code",
   "execution_count": 27,
   "id": "dc26ae74",
   "metadata": {},
   "outputs": [],
   "source": [
    "train_labels = keras.utils.to_categorical(train_labels)"
   ]
  },
  {
   "cell_type": "code",
   "execution_count": 28,
   "id": "596d7df8",
   "metadata": {},
   "outputs": [],
   "source": [
    "test_labels = keras.utils.to_categorical(test_labels)"
   ]
  },
  {
   "attachments": {},
   "cell_type": "markdown",
   "id": "ed0617f7",
   "metadata": {},
   "source": [
    "<p style=\"text-align:justify; font-size: 12pt; font-family: 'Times New Roman', Times, serif;\"><b>Explanation:</b> This section of the code converts the training and test labels from the Fashion MNIST dataset to categorical format using the keras.utils.to_categorical() function.  </p>"
   ]
  },
  {
   "attachments": {},
   "cell_type": "markdown",
   "id": "1ea95c6d",
   "metadata": {},
   "source": [
    "<p style=\"text-align:justify; font-size: 12pt; font-family: 'Times New Roman', Times, serif;\"> The original labels are integer values representing the class of each image. For example, a label of 0 might represent a T-shirt/top, while a label of 1 might represent a trouser. We have 10 different classes in the Fashion MNIST dataset.  </p>"
   ]
  },
  {
   "attachments": {},
   "cell_type": "markdown",
   "id": "b910b9b7",
   "metadata": {},
   "source": [
    "<p style=\"text-align:justify; font-size: 12pt; font-family: 'Times New Roman', Times, serif;\"> The to_categorical() function converts these integer labels to binary vectors, where each element of the vector represents a different class. For example, 10 classes, then a label of 0 would be converted to the binary vector [1, 0, 0, 0, 0, 0, 0, 0, 0, 0], while a label of 1 would be converted to the binary vector [0, 1, 0, 0, 0, 0, 0, 0, 0, 0]. </p>"
   ]
  },
  {
   "attachments": {},
   "cell_type": "markdown",
   "id": "ac8bb716",
   "metadata": {},
   "source": [
    "<p style=\"text-align:justify; font-size: 12pt; font-family: 'Times New Roman', Times, serif;\"> This conversion is performed on both the training and test labels using the to_categorical() function. The resulting binary vectors are assigned back to the train_labels and test_labels variables. </p>"
   ]
  },
  {
   "cell_type": "code",
   "execution_count": 29,
   "id": "00fccc46",
   "metadata": {},
   "outputs": [],
   "source": [
    "# Create the CNN model"
   ]
  },
  {
   "cell_type": "code",
   "execution_count": 30,
   "id": "6e4e3a97",
   "metadata": {},
   "outputs": [],
   "source": [
    "model = Sequential()"
   ]
  },
  {
   "cell_type": "code",
   "execution_count": 31,
   "id": "f47d1cae",
   "metadata": {},
   "outputs": [],
   "source": [
    "model.add(Conv2D(64, (3, 3), activation='relu', input_shape=(28, 28, 1)))"
   ]
  },
  {
   "cell_type": "code",
   "execution_count": 32,
   "id": "ab94068e",
   "metadata": {},
   "outputs": [],
   "source": [
    "model.add(MaxPooling2D((2, 2)))"
   ]
  },
  {
   "cell_type": "code",
   "execution_count": 33,
   "id": "523c7bcc",
   "metadata": {},
   "outputs": [],
   "source": [
    "model.add(Conv2D(64, (3, 3), activation='relu'))"
   ]
  },
  {
   "cell_type": "code",
   "execution_count": 34,
   "id": "cdf37326",
   "metadata": {},
   "outputs": [],
   "source": [
    "model.add(MaxPooling2D((2, 2)))"
   ]
  },
  {
   "cell_type": "code",
   "execution_count": 35,
   "id": "c15d6639",
   "metadata": {},
   "outputs": [],
   "source": [
    "model.add(Flatten())"
   ]
  },
  {
   "cell_type": "code",
   "execution_count": 36,
   "id": "fbfff8fa",
   "metadata": {},
   "outputs": [],
   "source": [
    "model.add(Dense(128, activation='relu'))"
   ]
  },
  {
   "cell_type": "code",
   "execution_count": 37,
   "id": "ebb9303e",
   "metadata": {},
   "outputs": [],
   "source": [
    "model.add(Dense(10, activation='softmax'))"
   ]
  },
  {
   "attachments": {},
   "cell_type": "markdown",
   "id": "cef0ceef",
   "metadata": {},
   "source": [
    "<p style=\"text-align:justify; font-size: 12pt; font-family: 'Times New Roman', Times, serif;\"><b>Explanation:</b> This section of the code creates a CNN model using the Keras Sequential class. Like I’ve mentioned earlier, CNN accepts an input image and transform it through a series of hidden layers such as Conv2D, MaxPooling, Flatten and Dense. Each hidden layer is also made up of a set of neurons, where each neuron is fully connected to all neurons in the previous layer. However, the max pooling and flatten layers do not contain neurons, they just perform fixing operation on their input data. The last layer of a neural network (i.e., the “Dense layer”) is also fully connected and represents the final output classifications of the network.</p>"
   ]
  },
  {
   "attachments": {},
   "cell_type": "markdown",
   "id": "fcabd905",
   "metadata": {},
   "source": [
    "<img src=\"./figure/Figure 3.2.png\" width=100% height=100%>\n",
    "<p style=\"font-size: 12pt; font-family: 'Times New Roman', Times, serif; text-align: center;\"><i>Figure 3.2: Convolution Neural Network</i></p>"
   ]
  },
  {
   "attachments": {},
   "cell_type": "markdown",
   "id": "4909c692",
   "metadata": {},
   "source": [
    "<p style=\"text-align:justify; font-size: 12pt; font-family: 'Times New Roman', Times, serif;\"> Back to the code itself, the Sequential class is used to create a linear stack of layers, where each layer takes the output of the previous layer as its input. In this case, the model consists of several layers, including two convolutional layers, two max pooling layers, a flatten layer, and two dense layers.  </p>"
   ]
  },
  {
   "attachments": {},
   "cell_type": "markdown",
   "id": "584ce50d",
   "metadata": {},
   "source": [
    "<p style=\"text-align:justify; font-size: 12pt; font-family: 'Times New Roman', Times, serif;\"> The first layer in the model is a Conv2D layer with 64 filters and a kernel size of (3, 3). This layer takes the preprocessed training images as input, which have a shape of (28, 28, 1). (28, 28, 1) represent the height and width of the input images in pixels. Each image is 28 pixels tall and 28 pixels wide while 1, represents the number of color channels in the input images. The Conv2D layer applies convolutional filters to the input images to extract features such as edges and shapes. activation='relu' is a non-linear activation function that performs on multi-layer neural networks. In this layer we remove every negative value from the filtered image and replace it with zero.  </p>"
   ]
  },
  {
   "attachments": {},
   "cell_type": "markdown",
   "id": "b4a429da",
   "metadata": {},
   "source": [
    "<p style=\"text-align:justify; font-size: 12pt; font-family: 'Times New Roman', Times, serif;\"> The next layer is a MaxPooling2D layer with a pool size of (2, 2). This layer downsampling the output of the previous layer by taking the maximum value over each (2, 2) window. Downsampling reduces the spatial dimensions of the data and removing some of the pixels from the image and helps to make the model more translation invariant(able to recognize objects in an image regardless of their position better). </p>"
   ]
  },
  {
   "attachments": {},
   "cell_type": "markdown",
   "id": "c8e887d5",
   "metadata": {},
   "source": [
    "<p style=\"text-align:justify; font-size: 12pt; font-family: 'Times New Roman', Times, serif;\"> The next two layers are another Conv2D layer and another MaxPooling2D layer with the same parameters as before. These layers extract more features from the data and further downsampling.</p>"
   ]
  },
  {
   "attachments": {},
   "cell_type": "markdown",
   "id": "5788aafd",
   "metadata": {},
   "source": [
    "<p style=\"text-align:justify; font-size: 12pt; font-family: 'Times New Roman', Times, serif;\"> After the second MaxPooling2D layer, a Flatten layer is added to convert the 3D output of the previous layer into a 1D vector. This is necessary because the following dense layers expect their input to be in this format.  </p>"
   ]
  },
  {
   "attachments": {},
   "cell_type": "markdown",
   "id": "34c5b6c6",
   "metadata": {},
   "source": [
    "<p style=\"text-align:justify; font-size: 12pt; font-family: 'Times New Roman', Times, serif;\"> Next, a Dense layer with 128 units and the ReLU activation function is added. This layer is fully connected to the output of the previous layer and applies a non-linear transformation to it. </p>"
   ]
  },
  {
   "attachments": {},
   "cell_type": "markdown",
   "id": "057f903e",
   "metadata": {},
   "source": [
    "<p style=\"text-align:justify; font-size: 12pt; font-family: 'Times New Roman', Times, serif;\"> The final layer in the model is another Dense layer with 10 units and the softmax activation function. This layer outputs class probabilities for each of the 10 classes in the Fashion MNIST dataset. </p>"
   ]
  },
  {
   "cell_type": "code",
   "execution_count": 38,
   "id": "79932b62",
   "metadata": {},
   "outputs": [],
   "source": [
    "# Compile and train the model"
   ]
  },
  {
   "cell_type": "code",
   "execution_count": 39,
   "id": "78b963b9",
   "metadata": {},
   "outputs": [],
   "source": [
    "model.compile(optimizer='adam', loss='binary_crossentropy', metrics=['accuracy'])"
   ]
  },
  {
   "cell_type": "code",
   "execution_count": 40,
   "id": "94311dc8",
   "metadata": {},
   "outputs": [
    {
     "name": "stdout",
     "output_type": "stream",
     "text": [
      "Epoch 1/10\n",
      "1200/1200 [==============================] - 79s 64ms/step - loss: 0.0923 - accuracy: 0.8168\n",
      "Epoch 2/10\n",
      "1200/1200 [==============================] - 64s 53ms/step - loss: 0.0594 - accuracy: 0.8824\n",
      "Epoch 3/10\n",
      "1200/1200 [==============================] - 58s 48ms/step - loss: 0.0507 - accuracy: 0.9002\n",
      "Epoch 4/10\n",
      "1200/1200 [==============================] - 64s 54ms/step - loss: 0.0453 - accuracy: 0.9112\n",
      "Epoch 5/10\n",
      "1200/1200 [==============================] - 79s 66ms/step - loss: 0.0409 - accuracy: 0.9204\n",
      "Epoch 6/10\n",
      "1200/1200 [==============================] - 54s 45ms/step - loss: 0.0369 - accuracy: 0.9277\n",
      "Epoch 7/10\n",
      "1200/1200 [==============================] - 51s 42ms/step - loss: 0.0339 - accuracy: 0.9340\n",
      "Epoch 8/10\n",
      "1200/1200 [==============================] - 53s 44ms/step - loss: 0.0310 - accuracy: 0.9407\n",
      "Epoch 9/10\n",
      "1200/1200 [==============================] - 51s 42ms/step - loss: 0.0284 - accuracy: 0.9460\n",
      "Epoch 10/10\n",
      "1200/1200 [==============================] - 50s 42ms/step - loss: 0.0258 - accuracy: 0.9513\n"
     ]
    },
    {
     "data": {
      "text/plain": [
       "<keras.callbacks.History at 0x1e4b90e5790>"
      ]
     },
     "execution_count": 40,
     "metadata": {},
     "output_type": "execute_result"
    }
   ],
   "source": [
    "model.fit(train_images, train_labels, epochs=10, batch_size=50, verbose=1)"
   ]
  },
  {
   "attachments": {},
   "cell_type": "markdown",
   "id": "7f02a640",
   "metadata": {},
   "source": [
    "<p style=\"text-align:justify; font-size: 12pt; font-family: 'Times New Roman', Times, serif;\"><b>Explanation:</b> This section of the code compiles and trains the CNN model created earlier. The first line of code compiles the model by specifying the optimizer, loss function, and evaluation metrics to use during training. In this case, the Adam optimizer is used to helps in improving the accuracy of neural networks and its learning rate. The loss function is set to binary cross-entropy, to eliminate multi-class classification problems. For example, allows the network to access such small errors and work to eliminate them. The accuracy metric is also specified, which will be used to evaluate the performance of the model during training.  </p>"
   ]
  },
  {
   "attachments": {},
   "cell_type": "markdown",
   "id": "c7ec8d9e",
   "metadata": {},
   "source": [
    "<p style=\"text-align:justify; font-size: 12pt; font-family: 'Times New Roman', Times, serif;\"> The second line of code trains the model on the preprocessed training data using the fit() function. \n",
    "In this case, the training data consists of the preprocessed training images and their corresponding categorical labels. The model is trained for 10 epochs(times) with a batch size of 50 images at once. The verbose argument is set to 1, which means that progress information will be printed to the console during training. This can be helpful for monitoring the progress of the training process.\n",
    " </p>"
   ]
  },
  {
   "cell_type": "code",
   "execution_count": 41,
   "id": "048c4dda",
   "metadata": {},
   "outputs": [],
   "source": [
    "# Evaluate the model"
   ]
  },
  {
   "cell_type": "code",
   "execution_count": 42,
   "id": "76272019",
   "metadata": {},
   "outputs": [],
   "source": [
    "test_loss, test_acc = model.evaluate(test_images, test_labels, verbose=0)"
   ]
  },
  {
   "cell_type": "code",
   "execution_count": 43,
   "id": "4c237d1b",
   "metadata": {},
   "outputs": [
    {
     "name": "stdout",
     "output_type": "stream",
     "text": [
      "Test accuracy: 0.9128999710083008\n"
     ]
    }
   ],
   "source": [
    "print('Test accuracy:', test_acc)"
   ]
  },
  {
   "attachments": {},
   "cell_type": "markdown",
   "id": "1b321c67",
   "metadata": {},
   "source": [
    "<p style=\"text-align:justify; font-size: 12pt; font-family: 'Times New Roman', Times, serif;\"><b>Explanation:</b> This section of the code evaluates the trained CNN model on the test data from the Fashion MNIST dataset and will print its accuracy on screen. The evaluate() function of the model is used to calculate the loss and accuracy of the model on the test data.  </p>"
   ]
  },
  {
   "attachments": {},
   "cell_type": "markdown",
   "id": "89ad819f",
   "metadata": {},
   "source": [
    "<p style=\"text-align:justify; font-size: 12pt; font-family: 'Times New Roman', Times, serif;\"> In this case, the preprocessed test images and their corresponding categorical labels are passed as the test data. The verbose argument is set to 0, which means that no progress information will be printed. The evaluate() method returns two values: the loss and accuracy of the model on the test data. These values are assigned to the test_loss and test_acc variables, respectively.  </p>"
   ]
  },
  {
   "attachments": {},
   "cell_type": "markdown",
   "id": "60614c49",
   "metadata": {},
   "source": [
    "<p style=\"text-align:justify; font-size: 12pt; font-family: 'Times New Roman', Times, serif;\"> After evaluating the model, the test accuracy is printed to the console using the print() function. Accuracy must be 90% and above to tell that the CNN model’s performance in classifying images from the Fashion MNIST dataset is considered as good.  </p>"
   ]
  },
  {
   "cell_type": "code",
   "execution_count": 44,
   "id": "6dff5d05",
   "metadata": {},
   "outputs": [],
   "source": [
    "# Make predictions"
   ]
  },
  {
   "cell_type": "code",
   "execution_count": 45,
   "id": "2cdbd835",
   "metadata": {},
   "outputs": [
    {
     "name": "stdout",
     "output_type": "stream",
     "text": [
      " 26/313 [=>............................] - ETA: 1s"
     ]
    },
    {
     "name": "stdout",
     "output_type": "stream",
     "text": [
      "313/313 [==============================] - 2s 6ms/step\n"
     ]
    }
   ],
   "source": [
    "predictions = model.predict(test_images)"
   ]
  },
  {
   "cell_type": "code",
   "execution_count": 46,
   "id": "a3bce30a",
   "metadata": {},
   "outputs": [],
   "source": [
    "predicted_classes = np.argmax(predictions, axis=1)"
   ]
  },
  {
   "attachments": {},
   "cell_type": "markdown",
   "id": "7ece18c9",
   "metadata": {},
   "source": [
    "<p style=\"text-align:justify; font-size: 12pt; font-family: 'Times New Roman', Times, serif;\"><b>Explanation:</b> This section of the code uses the trained CNN model to make predictions on the test data from the Fashion MNIST dataset.  </p>"
   ]
  },
  {
   "attachments": {},
   "cell_type": "markdown",
   "id": "48a208b7",
   "metadata": {},
   "source": [
    "<p style=\"text-align:justify; font-size: 12pt; font-family: 'Times New Roman', Times, serif;\"> The predict() method of the model is used to generate class probability predictions for each image in the test data. The method takes the preprocessed test images as input and returns an array of predictions to bit array. </p>"
   ]
  },
  {
   "attachments": {},
   "cell_type": "markdown",
   "id": "1177e96a",
   "metadata": {},
   "source": [
    "<p style=\"text-align:justify; font-size: 12pt; font-family: 'Times New Roman', Times, serif;\"> The argmax() function from numpy returns an array of class predictions, where each prediction is an integer representing the index of the class with the highest probability. These predicted class indices are assigned to the predicted_classes variable. In this case, the axis is set to 1, which means that the maximum value is taken along the second dimension of the array, corresponding to the class probabilities. </p>"
   ]
  },
  {
   "attachments": {},
   "cell_type": "markdown",
   "id": "405a8772",
   "metadata": {},
   "source": [
    "<img src=\"./figure/Figure 3.3.png\" width=40% height=40%>\n",
    "<p style=\"font-size: 12pt; font-family: 'Times New Roman', Times, serif; text-align: center;\"><i>Figure 3.3: Prediction Classes</i></p>"
   ]
  },
  {
   "attachments": {},
   "cell_type": "markdown",
   "id": "6683a283",
   "metadata": {},
   "source": [
    "<p style=\"text-align:justify; font-size: 12pt; font-family: 'Times New Roman', Times, serif;\"> For example, there are 10 classes in the Fashion MNIST dataset and the model generates class probability predictions for 10,000 test images, then the result of the predicted_classes might look like this: [0, 1, 7, 6, 5, ….. , 8]. This means that for the first test image, the model predicts that class index 0(T-shirt) has the highest probability, for the second test image, it predicts that class index 1(trouser) has the highest probability, for the third test image, it predicts that class index 7(sneaker) has the highest probability and so on. </p>"
   ]
  },
  {
   "cell_type": "code",
   "execution_count": 47,
   "id": "7e9f6517",
   "metadata": {},
   "outputs": [],
   "source": [
    "# Mapping class indices to class names"
   ]
  },
  {
   "cell_type": "code",
   "execution_count": 48,
   "id": "a35cdc15",
   "metadata": {},
   "outputs": [],
   "source": [
    "class_names = ['T-shirt/top', 'Trouser', 'Pullover', 'Dress', 'Coat',\n",
    "               'Sandal', 'Shirt', 'Sneaker', 'Bag', 'Ankle boot']"
   ]
  },
  {
   "attachments": {},
   "cell_type": "markdown",
   "id": "20f5270c",
   "metadata": {},
   "source": [
    "<p style=\"text-align:justify; font-size: 12pt; font-family: 'Times New Roman', Times, serif;\"><b>Explanation:</b> This section of the code defines a list of class names for the Fashion MNIST dataset.\n",
    "The class_names variable is assigned a list of 10 strings, where each string represents the name of one of the classes in the dataset. The order of the class names in the list corresponds to the order of the class indices used by the model.\n",
    " </p>"
   ]
  },
  {
   "attachments": {},
   "cell_type": "markdown",
   "id": "9df79362",
   "metadata": {},
   "source": [
    "<p style=\"text-align:justify; font-size: 12pt; font-family: 'Times New Roman', Times, serif;\"> For example, the first element of the class_names list is 'T-shirt/top', which corresponds to class index 0. The second element is 'Trouser', which corresponds to class index 1, and so on. </p>"
   ]
  },
  {
   "cell_type": "code",
   "execution_count": 49,
   "id": "7ae5f0a8",
   "metadata": {},
   "outputs": [],
   "source": [
    "# Display some predictions"
   ]
  },
  {
   "cell_type": "code",
   "execution_count": 50,
   "id": "63f58d2c",
   "metadata": {},
   "outputs": [
    {
     "data": {
      "text/plain": [
       "<Figure size 1000x1000 with 0 Axes>"
      ]
     },
     "execution_count": 50,
     "metadata": {},
     "output_type": "execute_result"
    },
    {
     "data": {
      "text/plain": [
       "<Figure size 1000x1000 with 0 Axes>"
      ]
     },
     "metadata": {},
     "output_type": "display_data"
    }
   ],
   "source": [
    "plt.figure(figsize=(10, 10))"
   ]
  },
  {
   "cell_type": "code",
   "execution_count": 51,
   "id": "f377d024",
   "metadata": {},
   "outputs": [
    {
     "data": {
      "image/png": "[encoded data removed]",
      "text/plain": [
       "<Figure size 640x480 with 25 Axes>"
      ]
     },
     "metadata": {},
     "output_type": "display_data"
    }
   ],
   "source": [
    "for i in range(25):\n",
    "    plt.subplot(5, 5, i + 1)\n",
    "    plt.xticks([])\n",
    "    plt.yticks([])\n",
    "    plt.imshow(test_images[i].reshape(28, 28), cmap=plt.cm.binary)\n",
    "    plt.xlabel(class_names[predicted_classes[i]])   \n",
    "plt.show()"
   ]
  },
  {
   "attachments": {},
   "cell_type": "markdown",
   "id": "ff8ae071",
   "metadata": {},
   "source": [
    "<p style=\"text-align:justify; font-size: 12pt; font-family: 'Times New Roman', Times, serif;\"><b>Explanation:</b> This section of the code uses the matplotlib library to display some of the predictions made by the trained CNN model on the test data from the Fashion MNIST dataset. </p>"
   ]
  },
  {
   "attachments": {},
   "cell_type": "markdown",
   "id": "c3637a35",
   "metadata": {},
   "source": [
    "<p style=\"text-align:justify; font-size: 12pt; font-family: 'Times New Roman', Times, serif;\"> First, a new figure is created with a size of 10x10 inches using the plt.figure() function. Then, a loop is used to iterate over the first 25 images in the test data. </p>"
   ]
  },
  {
   "attachments": {},
   "cell_type": "markdown",
   "id": "c66a5073",
   "metadata": {},
   "source": [
    "<p style=\"text-align:justify; font-size: 12pt; font-family: 'Times New Roman', Times, serif;\"> For each image, a new subplot is created in a 5x5 grid using the plt.subplot() function. The xticks and yticks are set to an empty list to hide the tick marks on the x and y axes. Or else, it would look like the figure below.  </p>"
   ]
  },
  {
   "attachments": {},
   "cell_type": "markdown",
   "id": "8073e2bd",
   "metadata": {},
   "source": [
    "<img src=\"./figure/Figure 3.4.png\" width=60% height=60%>\n",
    "<p style=\"font-size: 12pt; font-family: 'Times New Roman', Times, serif; text-align: center;\"><i>Figure 3.1.4: Tickmarks Unhide</i></p>"
   ]
  },
  {
   "attachments": {},
   "cell_type": "markdown",
   "id": "4910d626",
   "metadata": {},
   "source": [
    "<p style=\"text-align:justify; font-size: 12pt; font-family: 'Times New Roman', Times, serif;\"> The image is then displayed in the subplot using the plt.imshow() function. The image data is first reshaped from (28, 28, 1) to (28, 28) using the reshape() method, and then passed to the imshow() function along with a colormap argument specifying that the image should be displayed in binary (black and white) format. </p>"
   ]
  },
  {
   "attachments": {},
   "cell_type": "markdown",
   "id": "58ec7bc9",
   "metadata": {},
   "source": [
    "<p style=\"text-align:justify; font-size: 12pt; font-family: 'Times New Roman', Times, serif;\"> The predicted class name for the image is then displayed below the image using the plt.xlabel() function. The predicted class index for the image is obtained from the predicted_classes array and used to index into the class_names list to get the corresponding class name. </p>"
   ]
  },
  {
   "attachments": {},
   "cell_type": "markdown",
   "id": "9f0a8bf8",
   "metadata": {},
   "source": [
    "<p style=\"text-align:justify; font-size: 12pt; font-family: 'Times New Roman', Times, serif;\"> After all 25 images have been displayed, the figure is shown using the plt.show() function. This displays a window containing the figure with all of its subplots. </p>"
   ]
  },
  {
   "attachments": {},
   "cell_type": "markdown",
   "id": "b4bb9b92",
   "metadata": {},
   "source": [
    "<center><h1 style=\"font-size:4rem; font-family: 'Times New Roman', Times, serif; color:orange;\">CHAPTER 4</h1></center><br>\n",
    "<center><h1 style=\"font-size:3rem; font-family: 'Times New Roman', Times, serif; color:orange;\">PRE-PROCESSING, MODEL TUNING and PERFORMANCE EVALUATION</h1></center><br>\n"
   ]
  },
  {
   "attachments": {},
   "cell_type": "markdown",
   "id": "c2df7742",
   "metadata": {},
   "source": [
    "<center><h1 style=\"font-size:3rem; font-family: 'Times New Roman', Times, serif; color:orange;\">4.1 PRE-PROCESSING</h1></center><br>\n",
    "<p style=\"text-align:justify; font-size: 12pt; font-family: 'Times New Roman', Times, serif;\">&emsp; Pre-processing is a technique that is applied to raw data which transforms the raw data into a format that can be analyzed and further processed by the computer. Pre-processing is a vital step that needs to use in data analysis and machine learning tasks because it can improve the quality of data and enable accurate and efficient analysis.</p>"
   ]
  },
  {
   "attachments": {},
   "cell_type": "markdown",
   "id": "31c5ea90",
   "metadata": {},
   "source": [
    "<p style=\"text-align:justify; font-size: 12pt; font-family: 'Times New Roman', Times, serif;\"> From the code, the preprocessing steps are shown as below: </p>"
   ]
  },
  {
   "attachments": {},
   "cell_type": "markdown",
   "id": "218a189e",
   "metadata": {},
   "source": [
    "<p style=\"text-align:justify; font-size: 12pt; font-family: 'Times New Roman', Times, serif;\"> &emsp; 1.&emsp; Load the fashion MNIST dataset </p>"
   ]
  },
  {
   "cell_type": "code",
   "execution_count": 3,
   "id": "e06f5ba5",
   "metadata": {},
   "outputs": [],
   "source": [
    "# Load the Fashion MNIST dataset"
   ]
  },
  {
   "cell_type": "code",
   "execution_count": 4,
   "id": "e2ee089e",
   "metadata": {},
   "outputs": [
    {
     "ename": "NameError",
     "evalue": "name 'fashion_mnist' is not defined",
     "output_type": "error",
     "traceback": [
      "\u001b[1;31m---------------------------------------------------------------------------\u001b[0m",
      "\u001b[1;31mNameError\u001b[0m                                 Traceback (most recent call last)",
      "Cell \u001b[1;32mIn[4], line 1\u001b[0m\n\u001b[1;32m----> 1\u001b[0m (train_images, train_labels), (test_images, test_labels) \u001b[39m=\u001b[39m fashion_mnist\u001b[39m.\u001b[39mload_data()\n",
      "\u001b[1;31mNameError\u001b[0m: name 'fashion_mnist' is not defined"
     ]
    }
   ],
   "source": [
    "(train_images, train_labels), (test_images, test_labels) = fashion_mnist.load_data()"
   ]
  },
  {
   "attachments": {},
   "cell_type": "markdown",
   "id": "f001e781",
   "metadata": {},
   "source": [
    "<p style=\"text-align:justify; font-size: 12pt; font-family: 'Times New Roman', Times, serif;\"> The fashion_mnist.load_data() from tensorflow.keras.datasets is used to load the dataset as this dataset contains about 60,000 training images and 10,000 test images that are relevant to the fashion items and each has 28×28 grayscale images. The fashion_mnist.load_data() function is loaded into 4 variables which are train_images, train_labels, test_images and test_labels. </p>"
   ]
  },
  {
   "attachments": {},
   "cell_type": "markdown",
   "id": "734e0c05",
   "metadata": {},
   "source": [
    "<p style=\"text-align:justify; font-size: 12pt; font-family: 'Times New Roman', Times, serif;\"> &emsp; 2.&emsp; Reshape and scale the images </p>"
   ]
  },
  {
   "cell_type": "code",
   "execution_count": 5,
   "id": "4c78b7a2",
   "metadata": {},
   "outputs": [],
   "source": [
    "# Preprocess the data"
   ]
  },
  {
   "cell_type": "code",
   "execution_count": 6,
   "id": "699d7bf9",
   "metadata": {},
   "outputs": [
    {
     "ename": "NameError",
     "evalue": "name 'train_images' is not defined",
     "output_type": "error",
     "traceback": [
      "\u001b[1;31m---------------------------------------------------------------------------\u001b[0m",
      "\u001b[1;31mNameError\u001b[0m                                 Traceback (most recent call last)",
      "Cell \u001b[1;32mIn[6], line 1\u001b[0m\n\u001b[1;32m----> 1\u001b[0m train_images \u001b[39m=\u001b[39m train_images\u001b[39m.\u001b[39mreshape((\u001b[39m60000\u001b[39m, \u001b[39m28\u001b[39m, \u001b[39m28\u001b[39m, \u001b[39m1\u001b[39m))\n",
      "\u001b[1;31mNameError\u001b[0m: name 'train_images' is not defined"
     ]
    }
   ],
   "source": [
    "train_images = train_images.reshape((60000, 28, 28, 1))"
   ]
  },
  {
   "cell_type": "code",
   "execution_count": 7,
   "id": "a7a72b6a",
   "metadata": {},
   "outputs": [
    {
     "ename": "NameError",
     "evalue": "name 'train_images' is not defined",
     "output_type": "error",
     "traceback": [
      "\u001b[1;31m---------------------------------------------------------------------------\u001b[0m",
      "\u001b[1;31mNameError\u001b[0m                                 Traceback (most recent call last)",
      "Cell \u001b[1;32mIn[7], line 1\u001b[0m\n\u001b[1;32m----> 1\u001b[0m train_images \u001b[39m=\u001b[39m train_images\u001b[39m.\u001b[39mastype(\u001b[39m'\u001b[39m\u001b[39mfloat32\u001b[39m\u001b[39m'\u001b[39m) \u001b[39m/\u001b[39m \u001b[39m255\u001b[39m\n",
      "\u001b[1;31mNameError\u001b[0m: name 'train_images' is not defined"
     ]
    }
   ],
   "source": [
    "train_images = train_images.astype('float32') / 255"
   ]
  },
  {
   "cell_type": "code",
   "execution_count": 8,
   "id": "085ce67a",
   "metadata": {},
   "outputs": [
    {
     "ename": "NameError",
     "evalue": "name 'test_images' is not defined",
     "output_type": "error",
     "traceback": [
      "\u001b[1;31m---------------------------------------------------------------------------\u001b[0m",
      "\u001b[1;31mNameError\u001b[0m                                 Traceback (most recent call last)",
      "Cell \u001b[1;32mIn[8], line 1\u001b[0m\n\u001b[1;32m----> 1\u001b[0m test_images \u001b[39m=\u001b[39m test_images\u001b[39m.\u001b[39mreshape((\u001b[39m10000\u001b[39m, \u001b[39m28\u001b[39m, \u001b[39m28\u001b[39m, \u001b[39m1\u001b[39m))\n",
      "\u001b[1;31mNameError\u001b[0m: name 'test_images' is not defined"
     ]
    }
   ],
   "source": [
    "test_images = test_images.reshape((10000, 28, 28, 1))"
   ]
  },
  {
   "cell_type": "code",
   "execution_count": 9,
   "id": "ead66eca",
   "metadata": {},
   "outputs": [
    {
     "ename": "NameError",
     "evalue": "name 'test_images' is not defined",
     "output_type": "error",
     "traceback": [
      "\u001b[1;31m---------------------------------------------------------------------------\u001b[0m",
      "\u001b[1;31mNameError\u001b[0m                                 Traceback (most recent call last)",
      "Cell \u001b[1;32mIn[9], line 1\u001b[0m\n\u001b[1;32m----> 1\u001b[0m test_images \u001b[39m=\u001b[39m test_images\u001b[39m.\u001b[39mastype(\u001b[39m'\u001b[39m\u001b[39mfloat32\u001b[39m\u001b[39m'\u001b[39m) \u001b[39m/\u001b[39m \u001b[39m255\u001b[39m\n",
      "\u001b[1;31mNameError\u001b[0m: name 'test_images' is not defined"
     ]
    }
   ],
   "source": [
    "test_images = test_images.astype('float32') / 255"
   ]
  },
  {
   "attachments": {},
   "cell_type": "markdown",
   "id": "501acc9b",
   "metadata": {},
   "source": [
    "<p style=\"text-align:justify; font-size: 12pt; font-family: 'Times New Roman', Times, serif;\"> After loading the dataset, the train images and test images need to be reshaped in order to match the input shape for the Convolutional Neural Network(CNN) by having the shape of (60,000, 28, 28, 1) for the train images and (10,000, 28, 28, 1) for the test images. Reshape function for this code also means the images need to change into an array. The array contains 4 dimensions that are added to the images. There are total of 60,000 training images and 10,000 test images, each image has a 28×28 pixel image and all these images are saved into the array. Each pixel contains 1 value based on the brightness(grayscale). Then, the “astype” function is applied to convert the data type into float32 where the pixel values are divided by 255 to normalize the pixel values between 0 and 1.</p>"
   ]
  },
  {
   "attachments": {},
   "cell_type": "markdown",
   "id": "51be6fa9",
   "metadata": {},
   "source": [
    "<p style=\"text-align:justify; font-size: 12pt; font-family: 'Times New Roman', Times, serif;\"> &emsp; 3.&emsp;Convert labels to categorical format\n",
    " </p>"
   ]
  },
  {
   "cell_type": "code",
   "execution_count": 10,
   "id": "b0853873",
   "metadata": {},
   "outputs": [],
   "source": [
    "# Convert labels to categorical"
   ]
  },
  {
   "cell_type": "code",
   "execution_count": 11,
   "id": "ba75f4eb",
   "metadata": {},
   "outputs": [
    {
     "ename": "NameError",
     "evalue": "name 'keras' is not defined",
     "output_type": "error",
     "traceback": [
      "\u001b[1;31m---------------------------------------------------------------------------\u001b[0m",
      "\u001b[1;31mNameError\u001b[0m                                 Traceback (most recent call last)",
      "Cell \u001b[1;32mIn[11], line 1\u001b[0m\n\u001b[1;32m----> 1\u001b[0m train_labels \u001b[39m=\u001b[39m keras\u001b[39m.\u001b[39mutils\u001b[39m.\u001b[39mto_categorical(train_labels)\n",
      "\u001b[1;31mNameError\u001b[0m: name 'keras' is not defined"
     ]
    }
   ],
   "source": [
    "train_labels = keras.utils.to_categorical(train_labels)"
   ]
  },
  {
   "cell_type": "code",
   "execution_count": 12,
   "id": "a8c314f1",
   "metadata": {},
   "outputs": [
    {
     "ename": "NameError",
     "evalue": "name 'keras' is not defined",
     "output_type": "error",
     "traceback": [
      "\u001b[1;31m---------------------------------------------------------------------------\u001b[0m",
      "\u001b[1;31mNameError\u001b[0m                                 Traceback (most recent call last)",
      "Cell \u001b[1;32mIn[12], line 1\u001b[0m\n\u001b[1;32m----> 1\u001b[0m test_labels \u001b[39m=\u001b[39m keras\u001b[39m.\u001b[39mutils\u001b[39m.\u001b[39mto_categorical(test_labels)\n",
      "\u001b[1;31mNameError\u001b[0m: name 'keras' is not defined"
     ]
    }
   ],
   "source": [
    "test_labels = keras.utils.to_categorical(test_labels)"
   ]
  },
  {
   "attachments": {},
   "cell_type": "markdown",
   "id": "c2529aab",
   "metadata": {},
   "source": [
    "<p style=\"text-align:justify; font-size: 12pt; font-family: 'Times New Roman', Times, serif;\"> Thereafter, the “keras.utils.to_categorical” function is used to change the labels for training and test datasets into the categorical format. This method will convert the integer labels into one-hots encoded vectors where the one-hots encoded vector is a technique that is used to refer to the categorical variables numerically. This technique will change the category into a binary vector represented so that it can be read by the machine where one element will be set as 1(hot) and others are set as 0(cold). </p>"
   ]
  },
  {
   "attachments": {},
   "cell_type": "markdown",
   "id": "a763a9ad",
   "metadata": {},
   "source": [
    "<center><h1 style=\"font-size:3rem; font-family: 'Times New Roman', Times, serif; color:orange;\">4.2 MODEL TUNING</h1></center><br>\n",
    "<p style=\"text-align:justify; font-size: 12pt; font-family: 'Times New Roman', Times, serif;\">&emsp; Model tuning is a process that is used to look for the optimal values of hyperparameters in order to maximize the model performance. Hyperparameters are the parameters that will be applied in machine learning and deep learning before the machine starts the learning process. The model from training data cannot estimate the values of hyperparameters because the training process is controlled by these values. Therefore, model tuning is also known as the hyperparameter model.</p>"
   ]
  },
  {
   "attachments": {},
   "cell_type": "markdown",
   "id": "eaa8dee7",
   "metadata": {},
   "source": [
    "<p style=\"text-align:justify; font-size: 12pt; font-family: 'Times New Roman', Times, serif;\"> &emsp; The model tuning that is applied in the code is using an automated method where the hyperparameter values are using the algorithms to find the optimal value. In order to find the optimal hyperparameter values, the code applied a random search algorithm. This algorithm is used because it will only test on random combinations of hyperparameter values as it involved random selection of hyperparameter values from the predefined hyperparameter range. Random search can perform iterations for a specified number and it will trains and evaluates the model for each iteration. Therefore, the code applied a random search algorithm by the user running it manually for a few times repeatedly with different hyperparameters. The purpose of using this model tunning is because the output of the code has more than 90% of accuracy which fulfill the project requirements. </p>"
   ]
  },
  {
   "attachments": {},
   "cell_type": "markdown",
   "id": "1d6ecebf",
   "metadata": {},
   "source": [
    "<center><h1 style=\"font-size:3rem; font-family: 'Times New Roman', Times, serif; color:orange;\">4.3 PERFORMANCE EVALUATION</h1></center><br>\n",
    "<p style=\"text-align:justify; font-size: 12pt; font-family: 'Times New Roman', Times, serif;\">&emsp; In order to test the code and ensure the accuracy is more than 90%, the Artificial Intelligence(AI) itself will run 10 times to test on the same model by setting the “epochs” as 10. This event is for the AI to learn by itself and also to verify that the AI is able to recognize the images after its self-learning.</p>"
   ]
  },
  {
   "attachments": {},
   "cell_type": "markdown",
   "id": "e5eef910",
   "metadata": {},
   "source": [
    "<img src=\"./figure/Figure 4.3.1.jpg\" width=60% height=60%>\n",
    "<p style=\"font-size: 12pt; font-family: 'Times New Roman', Times, serif; text-align: center;\"><i>Figure 4.3.1: Result of Machone Self-Learning</i></p>"
   ]
  },
  {
   "attachments": {},
   "cell_type": "markdown",
   "id": "7ee13fe6",
   "metadata": {},
   "source": [
    "<p style=\"text-align:justify; font-size: 12pt; font-family: 'Times New Roman', Times, serif;\">Based on the figure above, the test accuracy is 90% and above after the machine is tested more than 10 times. With the result of high accuracy, it indicates that the machine able to recognize accurately the images that predefine in the code. </p>"
   ]
  },
  {
   "attachments": {},
   "cell_type": "markdown",
   "id": "ee688ad0",
   "metadata": {},
   "source": [
    "<img src=\"./figure/Figure 4.3.2.png\" width=60% height=60%>\n",
    "<p style=\"font-size: 12pt; font-family: 'Times New Roman', Times, serif; text-align: center;\"><i>Figure 4.3.2:Output</i></p>"
   ]
  },
  {
   "attachments": {},
   "cell_type": "markdown",
   "id": "ef10c35b",
   "metadata": {},
   "source": [
    "<p style=\"text-align:justify; font-size: 12pt; font-family: 'Times New Roman', Times, serif;\">The figure above is the overall output after running for 10 times by the machine in order to learn by itself. As the figure shows, there are images with their categories displayed on the screen after running  10 times. </p>"
   ]
  },
  {
   "attachments": {},
   "cell_type": "markdown",
   "id": "3f341bbe",
   "metadata": {},
   "source": [
    "<center><h1 style=\"font-size:4rem; font-family: 'Times New Roman', Times, serif; color:orange;\">CHAPTER 5</h1></center><br>\n",
    "<center><h1 style=\"font-size:3rem; font-family: 'Times New Roman', Times, serif; color:orange;\">CONCLUSION</h1></center><br>\n",
    "<p style=\"text-align:justify; font-size: 12pt; font-family: 'Times New Roman', Times, serif;\">&emsp; In conclusion, our project focuses on developing a machine learning model to predict fashion product classes using Fashion-MNIST dataset. At the end of our project, we had successfully achieved the project objectives and goals, which includes developing models in Python, performing proper data-processing, tuning the models for optimal performance, and evaluating and visualizing the model’s results. Throughout this project, we are able to familiar with machine learning techniques for prediction and classification by using the programming skills in Python. Overall, we gain a meaningful experience in developing this machine learning models to solve problems of real-world classification and prediction. This project is significant for us to have a better understanding related to machine learning and neural networks. Therefore, this project benefits us with a lot of skills and knowledge that help us to solve similar problems in the future and contribute to the improvement of the related field. We are excited to continue explore and learn more in this field for further achievement."
   ]
  }
 ],
 "metadata": {
  "kernelspec": {
   "display_name": "Python 3 (ipykernel)",
   "language": "python",
   "name": "python3"
  },
  "language_info": {
   "codemirror_mode": {
    "name": "ipython",
    "version": 3
   },
   "file_extension": ".py",
   "mimetype": "text/x-python",
   "name": "python",
   "nbconvert_exporter": "python",
   "pygments_lexer": "ipython3",
   "version": "3.11.3"
  }
 },
 "nbformat": 4,
 "nbformat_minor": 5
}
